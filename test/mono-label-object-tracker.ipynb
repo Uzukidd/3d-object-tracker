{
 "cells": [
  {
   "cell_type": "code",
   "execution_count": 1,
   "metadata": {},
   "outputs": [
    {
     "name": "stdout",
     "output_type": "stream",
     "text": [
      "Jupyter environment detected. Enabling Open3D WebVisualizer.\n",
      "[Open3D INFO] WebRTC GUI backend enabled.\n",
      "[Open3D INFO] WebRTCWindowSystem: HTTP handshake server disabled.\n"
     ]
    }
   ],
   "source": [
    "import open3d as o3d\n",
    "import numpy as np\n",
    "import torch\n",
    "from open3d_vis_utils import draw_scenes\n",
    "from object_tracker import mono_label_distance_tracker\n",
    "\n",
    "object_tracker = mono_label_distance_tracker(track_length=10, max_movement=2.0)"
   ]
  },
  {
   "cell_type": "code",
   "execution_count": null,
   "metadata": {},
   "outputs": [],
   "source": [
    "\"\"\"\n",
    "    center = gt_boxes[0:3]\n",
    "    lwh = gt_boxes[3:6]\n",
    "    axis_angles = np.array([0, 0, gt_boxes[6] + 1e-10])\n",
    "\"\"\"\n",
    "\n",
    "bbox = [\n",
    "    torch.Tensor([\n",
    "        [-5.0, 0.0, 1.0, 1.0, 2.0, 1.0, 0.0, 1],\n",
    "        [0.0, 0.0, 0.0, 1.0, 2.0, 1.0, 0.0, 1],\n",
    "        [6.0, 0.0, 0.5, 1.0, 2.0, 1.0, 0.0, 1],\n",
    "    ]), \n",
    "    torch.Tensor([\n",
    "        [-5.2, 0.8, 1.0, 1.0, 2.0, 1.0, np.deg2rad(30.0), 1],\n",
    "        [0.0, 1.1, 0.0, 1.0, 2.0, 1.0, np.deg2rad(12.0), 1],\n",
    "        [6.0, 0.7, 0.5, 1.0, 2.0, 1.0, np.deg2rad(45.0), 1],\n",
    "    ]),\n",
    "    torch.Tensor([\n",
    "        [-6.0, 1.3, 1.0, 1.0, 2.0, 1.0, np.deg2rad(30.0), 1],\n",
    "        [0.0, 1.6, -0.3, 1.0, 2.0, 1.0, np.deg2rad(12.0), 1],\n",
    "        [7.0, 1.0, 0.9, 1.0, 2.0, 1.0, np.deg2rad(45.0), 1],\n",
    "    ]),\n",
    "]"
   ]
  },
  {
   "cell_type": "code",
   "execution_count": null,
   "metadata": {},
   "outputs": [],
   "source": [
    "for t in range(bbox.__len__()):\n",
    "    if bbox[t] is not None:\n",
    "        object_tracker.updates_object(bbox[t][np.newaxis, :, :])\n",
    "    \n",
    "    box = object_tracker.get_all_bounding_box()\n",
    "    tracks = object_tracker.get_all_tracks()\n",
    "    ref_labels = box[:, 7].long()\n",
    "    vis = o3d.visualization.Visualizer()\n",
    "    vis.create_window()\n",
    "    draw_scenes(vis=vis, ref_boxes=box, tracks=tracks, ref_labels=ref_labels)\n",
    "    vis.run()\n",
    "    vis.destroy_window()"
   ]
  }
 ],
 "metadata": {
  "kernelspec": {
   "display_name": "env_carla0913_torch",
   "language": "python",
   "name": "python3"
  },
  "language_info": {
   "codemirror_mode": {
    "name": "ipython",
    "version": 3
   },
   "file_extension": ".py",
   "mimetype": "text/x-python",
   "name": "python",
   "nbconvert_exporter": "python",
   "pygments_lexer": "ipython3",
   "version": "3.8.0"
  }
 },
 "nbformat": 4,
 "nbformat_minor": 2
}
