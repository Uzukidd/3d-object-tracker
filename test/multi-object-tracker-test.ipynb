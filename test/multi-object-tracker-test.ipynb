{
 "cells": [
  {
   "cell_type": "code",
   "execution_count": null,
   "metadata": {},
   "outputs": [],
   "source": [
    "import open3d as o3d\n",
    "import numpy as np\n",
    "import torch\n",
    "from open3d_vis_utils import draw_scenes\n",
    "from object_tracker import multi_classes_assemble_tracker\n",
    "\n",
    "object_tracker = multi_classes_assemble_tracker(num_classes=3, \n",
    "                                                track_length=10,\n",
    "                                                max_movement=1.0,\n",
    "                                                multi_head=True)"
   ]
  }
 ],
 "metadata": {
  "kernelspec": {
   "display_name": "env_carla0913_torch",
   "language": "python",
   "name": "python3"
  },
  "language_info": {
   "name": "python",
   "version": "3.8.0"
  }
 },
 "nbformat": 4,
 "nbformat_minor": 2
}
